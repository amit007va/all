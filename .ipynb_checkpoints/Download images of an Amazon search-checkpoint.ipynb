{
 "cells": [
  {
   "cell_type": "code",
   "execution_count": 1,
   "metadata": {},
   "outputs": [
    {
     "name": "stdout",
     "output_type": "stream",
     "text": [
      "Direction: https://www.amazon.es/s?k=juegos+playstation+4&__mk_es_ES=%C3%85M%C3%85%C5%BD%C3%95%C3%91&ref=nb_sb_noss_1\n",
      "Pagination : 1\n",
      "Pagination : 2\n",
      "Pagination : 3\n",
      "Pagination : 4\n",
      "Pagination : 5\n",
      "Pagination : 6\n",
      "Pagination : 7\n",
      "Pagination : 8\n",
      "Pagination : 9\n",
      "Pagination : 10\n",
      "Pagination : 11\n",
      "Pagination : 12\n",
      "Pagination : 13\n",
      "Pagination : 14\n",
      "Pagination : 15\n",
      "Pagination : 16\n",
      "Pagination : 17\n",
      "Pagination : 18\n",
      "Pagination : 19\n",
      "Pagination : 20\n"
     ]
    }
   ],
   "source": [
    "#The goal is to do a search on Amazon and download the images from all the pages\n",
    "\n",
    "import requests\n",
    "from bs4 import *\n",
    "\n",
    "link = input('Direction: ')\n",
    "req = requests.get(link)\n",
    "soup = BeautifulSoup(req.text, 'lxml')\n",
    "\n",
    "# I get the last page that appears on the web\n",
    "\n",
    "pagination = soup.find_all('span', {'class': 'pagnDisabled'})\n",
    "\n",
    "#I take out the text and add 1 (as it is going to be used in an array, I also need to reach the last page)\n",
    "\n",
    "last_pagination = int(pagination[0].get_text()) + 1\n",
    "\n",
    "urls = []\n",
    "\n",
    "#The urls that are going to be opened are created\n",
    "\n",
    "for x in range (1, last_pagination):\n",
    "    urls.append(link + '&page=' + str(x))\n",
    "\n",
    "#  open all the URLs and export the images that I find\n",
    "\n",
    "k = 1 \n",
    "pag = 1\n",
    "for x in urls:\n",
    "    print('Pagination : ' + str(pag))\n",
    "    req = requests.get(x)\n",
    "    soup = BeautifulSoup(req.text, 'lxml')\n",
    "    imgs = soup.find_all('img')\n",
    "   \n",
    "    for i in imgs:\n",
    "        if str(i).find('src') != -1:\n",
    "            url = i['src']\n",
    "            name_image_folder = 'images/' + str(k) + '.jpg'\n",
    "            image = requests.get(url).content\n",
    "            \n",
    "            with open(name_image_folder, 'wb') as handler:\n",
    "                handler.write(image)\n",
    "        k += 1\n",
    "        \n",
    "    pag += 1"
   ]
  },
  {
   "cell_type": "code",
   "execution_count": 4,
   "metadata": {},
   "outputs": [
    {
     "data": {
      "text/html": [
       "<img src=\"images/web.png\"/>"
      ],
      "text/plain": [
       "<IPython.core.display.Image object>"
      ]
     },
     "execution_count": 4,
     "metadata": {},
     "output_type": "execute_result"
    }
   ],
   "source": [
    "from IPython.display import Image\n",
    "from IPython.core.display import HTML \n",
    "Image(url= 'images/web.png')"
   ]
  },
  {
   "cell_type": "code",
   "execution_count": 5,
   "metadata": {},
   "outputs": [
    {
     "data": {
      "text/html": [
       "<img src=\"images/pagination.png\"/>"
      ],
      "text/plain": [
       "<IPython.core.display.Image object>"
      ]
     },
     "execution_count": 5,
     "metadata": {},
     "output_type": "execute_result"
    }
   ],
   "source": [
    "Image(url= 'images/pagination.png')"
   ]
  },
  {
   "cell_type": "code",
   "execution_count": 6,
   "metadata": {},
   "outputs": [
    {
     "data": {
      "text/html": [
       "<img src=\"images/dowloads.png\"/>"
      ],
      "text/plain": [
       "<IPython.core.display.Image object>"
      ]
     },
     "execution_count": 6,
     "metadata": {},
     "output_type": "execute_result"
    }
   ],
   "source": [
    "Image(url= 'images/dowloads.png')"
   ]
  },
  {
   "cell_type": "code",
   "execution_count": 3,
   "metadata": {},
   "outputs": [
    {
     "name": "stdout",
     "output_type": "stream",
     "text": [
      "Files inside the folder: 651\n"
     ]
    }
   ],
   "source": [
    "import glob\n",
    "Numero=len(glob.glob(\"images/*.jpg\"))\n",
    "print('Files inside the folder: ' + str(Numero))"
   ]
  }
 ],
 "metadata": {
  "kernelspec": {
   "display_name": "Python 3",
   "language": "python",
   "name": "python3"
  },
  "language_info": {
   "codemirror_mode": {
    "name": "ipython",
    "version": 3
   },
   "file_extension": ".py",
   "mimetype": "text/x-python",
   "name": "python",
   "nbconvert_exporter": "python",
   "pygments_lexer": "ipython3",
   "version": "3.7.3"
  }
 },
 "nbformat": 4,
 "nbformat_minor": 2
}
