{
 "cells": [
  {
   "cell_type": "code",
   "execution_count": 1,
   "metadata": {},
   "outputs": [
    {
     "data": {
      "image/png": "[encoded data removed]",
      "text/plain": [
       "<Figure size 720x72 with 1 Axes>"
      ]
     },
     "metadata": {
      "needs_background": "light"
     },
     "output_type": "display_data"
    }
   ],
   "source": [
    "import requests\n",
    "import urllib.request\n",
    "import pandas as pd\n",
    "import re\n",
    "import json\n",
    "from time import time\n",
    "from datetime import datetime, timedelta\n",
    "from bs4 import BeautifulSoup\n",
    "import matplotlib.pyplot as plt\n",
    "import seaborn as sns\n",
    "%matplotlib inline\n",
    "\n",
    "palette = [\"#3a9679\", \"#a7d129\",\"#ff3d00\", \"#00e676\", \"#ad1457\", \"#f09c67\", \"#257aa6\", \n",
    "           \"#ffab00\", \"#e16262\", \"#263238\"]\n",
    "\n",
    "sns.palplot(sns.color_palette(palette))"
   ]
  },
  {
   "cell_type": "code",
   "execution_count": 2,
   "metadata": {},
   "outputs": [],
   "source": [
    "timeFinish = 0\n",
    "start_time = time()"
   ]
  },
  {
   "cell_type": "code",
   "execution_count": 3,
   "metadata": {},
   "outputs": [],
   "source": [
    "url = 'https://www.billboard.com/charts/hot-100'\n",
    "path_file_dest = r'billboard.json'\n",
    "response = requests.get(url, headers={'User-Agent': 'Mozilla/5.0 (Platform; Security; OS-or-CPU; Localization; rv:1.4) Gecko/20030624 Netscape/7.1 (ax)'})"
   ]
  },
  {
   "cell_type": "code",
   "execution_count": 4,
   "metadata": {},
   "outputs": [],
   "source": [
    "def write_doc_json(content, mode):\n",
    "    own_file = open(path_file_dest, mode, encoding='utf-8')\n",
    "    own_file.write(content.decode('utf-8'))\n",
    "    own_file.close()\n",
    "    print('\\n•  El archivo json fue sobre-escrito con exito!')"
   ]
  },
  {
   "cell_type": "code",
   "execution_count": 5,
   "metadata": {},
   "outputs": [
    {
     "name": "stdout",
     "output_type": "stream",
     "text": [
      "\n",
      "•  El archivo json fue sobre-escrito con exito!\n",
      "•  Se leyo el json y se creo el dataframe data\n"
     ]
    }
   ],
   "source": [
    "if response.status_code == 200:\n",
    "    \n",
    "    info = []\n",
    "    soup = BeautifulSoup(response.text, \"html.parser\")\n",
    "    data = soup.findAll('div', attrs={'class': 'chart-list-item__first-row chart-list-item__cursor-pointer'})\n",
    "    \n",
    "    for x in range (0, len(data)):\n",
    "        puesto = data[x].find('div', {'class': 'chart-list-item__rank'}).get_text()\n",
    "        tema = data[x].find('span', {'class': 'chart-list-item__title-text'}).get_text()\n",
    "        cantante = data[x].find('div', {'chart-list-item__artist'}).get_text()\n",
    "        \n",
    "        individuo = {'Puesto' : puesto.replace(\"\\n\",\"\"), \n",
    "                    'Tema' : tema.replace(\"\\n\",\"\"), \n",
    "                    'cantante' : cantante.replace(\"\\n\",\"\")}\n",
    "        \n",
    "        info.append(individuo)\n",
    "    \n",
    "    content = json.dumps(info, indent=4, sort_keys=True, ensure_ascii=False).encode('utf-8')\n",
    "    write_doc_json(content ,'w+')\n",
    "    data = pd.read_json(path_file_dest, encoding = 'UTF-8')\n",
    "    print('•  Se leyo el json y se creo el dataframe data')\n",
    "else:\n",
    "    print('No se pudo conectar')"
   ]
  },
  {
   "cell_type": "code",
   "execution_count": 6,
   "metadata": {},
   "outputs": [
    {
     "data": {
      "text/html": [
       "<div>\n",
       "<style scoped>\n",
       "    .dataframe tbody tr th:only-of-type {\n",
       "        vertical-align: middle;\n",
       "    }\n",
       "\n",
       "    .dataframe tbody tr th {\n",
       "        vertical-align: top;\n",
       "    }\n",
       "\n",
       "    .dataframe thead th {\n",
       "        text-align: right;\n",
       "    }\n",
       "</style>\n",
       "<table border=\"1\" class=\"dataframe\">\n",
       "  <thead>\n",
       "    <tr style=\"text-align: right;\">\n",
       "      <th></th>\n",
       "      <th>Puesto</th>\n",
       "      <th>Tema</th>\n",
       "      <th>cantante</th>\n",
       "    </tr>\n",
       "  </thead>\n",
       "  <tbody>\n",
       "    <tr>\n",
       "      <th>0</th>\n",
       "      <td>1</td>\n",
       "      <td>Old Town Road</td>\n",
       "      <td>Lil Nas X Featuring Billy Ray Cyrus</td>\n",
       "    </tr>\n",
       "    <tr>\n",
       "      <th>1</th>\n",
       "      <td>2</td>\n",
       "      <td>ME!</td>\n",
       "      <td>Taylor Swift Featuring Brendon Urie</td>\n",
       "    </tr>\n",
       "    <tr>\n",
       "      <th>2</th>\n",
       "      <td>3</td>\n",
       "      <td>Wow.</td>\n",
       "      <td>Post Malone</td>\n",
       "    </tr>\n",
       "    <tr>\n",
       "      <th>3</th>\n",
       "      <td>4</td>\n",
       "      <td>Sucker</td>\n",
       "      <td>Jonas Brothers</td>\n",
       "    </tr>\n",
       "    <tr>\n",
       "      <th>4</th>\n",
       "      <td>5</td>\n",
       "      <td>Sunflower (Spider-Man: Into The Spider-Verse)</td>\n",
       "      <td>Post Malone &amp; Swae Lee</td>\n",
       "    </tr>\n",
       "  </tbody>\n",
       "</table>\n",
       "</div>"
      ],
      "text/plain": [
       "   Puesto                                           Tema  \\\n",
       "0       1                                  Old Town Road   \n",
       "1       2                                            ME!   \n",
       "2       3                                           Wow.   \n",
       "3       4                                         Sucker   \n",
       "4       5  Sunflower (Spider-Man: Into The Spider-Verse)   \n",
       "\n",
       "                              cantante  \n",
       "0  Lil Nas X Featuring Billy Ray Cyrus  \n",
       "1  Taylor Swift Featuring Brendon Urie  \n",
       "2                          Post Malone  \n",
       "3                       Jonas Brothers  \n",
       "4               Post Malone & Swae Lee  "
      ]
     },
     "execution_count": 6,
     "metadata": {},
     "output_type": "execute_result"
    }
   ],
   "source": [
    "data.head()"
   ]
  },
  {
   "cell_type": "code",
   "execution_count": 7,
   "metadata": {},
   "outputs": [
    {
     "data": {
      "text/html": [
       "<div>\n",
       "<style scoped>\n",
       "    .dataframe tbody tr th:only-of-type {\n",
       "        vertical-align: middle;\n",
       "    }\n",
       "\n",
       "    .dataframe tbody tr th {\n",
       "        vertical-align: top;\n",
       "    }\n",
       "\n",
       "    .dataframe thead th {\n",
       "        text-align: right;\n",
       "    }\n",
       "</style>\n",
       "<table border=\"1\" class=\"dataframe\">\n",
       "  <thead>\n",
       "    <tr style=\"text-align: right;\">\n",
       "      <th></th>\n",
       "      <th>Puesto</th>\n",
       "      <th>Tema</th>\n",
       "      <th>cantante</th>\n",
       "      <th>cancion</th>\n",
       "    </tr>\n",
       "  </thead>\n",
       "  <tbody>\n",
       "    <tr>\n",
       "      <th>0</th>\n",
       "      <td>1</td>\n",
       "      <td>Old Town Road</td>\n",
       "      <td>Lil Nas X &amp; Billy Ray Cyrus</td>\n",
       "      <td>Old Town Road (Lil Nas X &amp; Billy Ray Cyrus)</td>\n",
       "    </tr>\n",
       "    <tr>\n",
       "      <th>1</th>\n",
       "      <td>2</td>\n",
       "      <td>ME!</td>\n",
       "      <td>Taylor Swift &amp; Brendon Urie</td>\n",
       "      <td>ME! (Taylor Swift &amp; Brendon Urie)</td>\n",
       "    </tr>\n",
       "    <tr>\n",
       "      <th>2</th>\n",
       "      <td>3</td>\n",
       "      <td>Wow.</td>\n",
       "      <td>Post Malone</td>\n",
       "      <td>Wow. (Post Malone)</td>\n",
       "    </tr>\n",
       "    <tr>\n",
       "      <th>3</th>\n",
       "      <td>4</td>\n",
       "      <td>Sucker</td>\n",
       "      <td>Jonas Brothers</td>\n",
       "      <td>Sucker (Jonas Brothers)</td>\n",
       "    </tr>\n",
       "    <tr>\n",
       "      <th>4</th>\n",
       "      <td>5</td>\n",
       "      <td>Sunflower (Spider-Man: Into The Spider-Verse)</td>\n",
       "      <td>Post Malone &amp; Swae Lee</td>\n",
       "      <td>Sunflower (Spider-Man: Into The Spider-Verse) ...</td>\n",
       "    </tr>\n",
       "  </tbody>\n",
       "</table>\n",
       "</div>"
      ],
      "text/plain": [
       "   Puesto                                           Tema  \\\n",
       "0       1                                  Old Town Road   \n",
       "1       2                                            ME!   \n",
       "2       3                                           Wow.   \n",
       "3       4                                         Sucker   \n",
       "4       5  Sunflower (Spider-Man: Into The Spider-Verse)   \n",
       "\n",
       "                      cantante  \\\n",
       "0  Lil Nas X & Billy Ray Cyrus   \n",
       "1  Taylor Swift & Brendon Urie   \n",
       "2                  Post Malone   \n",
       "3               Jonas Brothers   \n",
       "4       Post Malone & Swae Lee   \n",
       "\n",
       "                                             cancion  \n",
       "0        Old Town Road (Lil Nas X & Billy Ray Cyrus)  \n",
       "1                  ME! (Taylor Swift & Brendon Urie)  \n",
       "2                                 Wow. (Post Malone)  \n",
       "3                            Sucker (Jonas Brothers)  \n",
       "4  Sunflower (Spider-Man: Into The Spider-Verse) ...  "
      ]
     },
     "execution_count": 7,
     "metadata": {},
     "output_type": "execute_result"
    }
   ],
   "source": [
    "data.cantante = data.cantante.apply(lambda x: x.replace('Featuring', '&'))\n",
    "data['cancion'] = data.Tema + ' (' + data.cantante + ')'\n",
    "canciones = data.cancion\n",
    "data.head()"
   ]
  },
  {
   "cell_type": "code",
   "execution_count": 8,
   "metadata": {},
   "outputs": [
    {
     "name": "stdout",
     "output_type": "stream",
     "text": [
      "\n",
      "Obteniendo duracion, ranking Deezer y si el contenido de la letra \n",
      "y la tapa del cd son explicitos en cada tema ... \n",
      "\n",
      "      • 10 temas obtenidos\n",
      "      • 20 temas obtenidos\n",
      "      • 30 temas obtenidos\n",
      "      • 40 temas obtenidos\n",
      "      • 50 temas obtenidos\n",
      "      • 60 temas obtenidos\n",
      "      • 70 temas obtenidos\n",
      "      • 80 temas obtenidos\n",
      "      • 90 temas obtenidos\n",
      "\n",
      "Se obtuvieron las duraciones y los rankings de los 100 temas\n"
     ]
    }
   ],
   "source": [
    "print('''\\nObteniendo duracion, ranking Deezer y si el contenido de la letra \n",
    "y la tapa del cd son explicitos en cada tema ... \\n''')\n",
    "\n",
    "for x in range (0, len(canciones)):\n",
    "    url = 'https://api.deezer.com/search?q=' + str(canciones[x])\n",
    "    \n",
    "    response = requests.get(url, headers={'User-Agent': 'Mozilla/5.0 (Platform; Security; OS-or-CPU; Localization; rv:1.4) Gecko/20030624 Netscape/7.1 (ax)'})\n",
    "    if response.status_code == 200:\n",
    "        soup = BeautifulSoup(response.text, \"html.parser\")\n",
    "        newDictionary=json.loads(str(soup))\n",
    "        if len(newDictionary['data']) != 0:\n",
    "            data.loc[x, 'time'] = newDictionary['data'][0]['duration']\n",
    "            data.loc[x, 'deezer_rank'] = newDictionary['data'][0]['rank']\n",
    "            data.loc[x, 'explicit_lyrics'] = newDictionary['data'][0]['explicit_lyrics']\n",
    "            data.loc[x, 'explicit_content_lyrics'] = newDictionary['data'][0]['explicit_content_lyrics']\n",
    "            data.loc[x, 'explicit_content_cover'] = newDictionary['data'][0]['explicit_content_cover']\n",
    "        else:\n",
    "            data.loc[x, 'time'] = 0\n",
    "            data.loc[x, 'deezer_rank'] = -1\n",
    "            data.loc[x, 'explicit_lyrics'] = False\n",
    "            data.loc[x, 'explicit_content_lyrics'] = -1\n",
    "            data.loc[x, 'explicit_content_cover'] = -1\n",
    "            \n",
    "        if x != 0:\n",
    "            if x%10 == 0:\n",
    "                print('      • ' + str(x) + ' temas obtenidos')\n",
    "        \n",
    "        if x == 99:\n",
    "            print('\\nSe obtuvieron las duraciones y los rankings de los 100 temas')\n",
    "        \n",
    "    else:\n",
    "        print('Error al conectar a la siguiente Url:  ' + str(url))\n"
   ]
  },
  {
   "cell_type": "code",
   "execution_count": 9,
   "metadata": {},
   "outputs": [
    {
     "name": "stdout",
     "output_type": "stream",
     "text": [
      "0.0\n",
      "-1.0\n",
      "0\n",
      "-1.0\n",
      "-1.0\n"
     ]
    }
   ],
   "source": [
    "print(data.time[data.time == -1].sum())\n",
    "print(data.deezer_rank[data.deezer_rank == -1].sum())\n",
    "print(data.explicit_lyrics[data.explicit_lyrics == -1].sum())\n",
    "print(data.explicit_content_lyrics[data.explicit_content_lyrics == -1].sum())\n",
    "print(data.explicit_content_cover[data.explicit_content_cover == -1].sum())"
   ]
  },
  {
   "cell_type": "code",
   "execution_count": 10,
   "metadata": {},
   "outputs": [
    {
     "data": {
      "text/html": [
       "<div>\n",
       "<style scoped>\n",
       "    .dataframe tbody tr th:only-of-type {\n",
       "        vertical-align: middle;\n",
       "    }\n",
       "\n",
       "    .dataframe tbody tr th {\n",
       "        vertical-align: top;\n",
       "    }\n",
       "\n",
       "    .dataframe thead th {\n",
       "        text-align: right;\n",
       "    }\n",
       "</style>\n",
       "<table border=\"1\" class=\"dataframe\">\n",
       "  <thead>\n",
       "    <tr style=\"text-align: right;\">\n",
       "      <th></th>\n",
       "      <th>Puesto</th>\n",
       "      <th>Tema</th>\n",
       "      <th>cantante</th>\n",
       "      <th>cancion</th>\n",
       "      <th>time</th>\n",
       "      <th>deezer_rank</th>\n",
       "      <th>explicit_lyrics</th>\n",
       "      <th>explicit_content_lyrics</th>\n",
       "      <th>explicit_content_cover</th>\n",
       "    </tr>\n",
       "  </thead>\n",
       "  <tbody>\n",
       "    <tr>\n",
       "      <th>0</th>\n",
       "      <td>1</td>\n",
       "      <td>Old Town Road</td>\n",
       "      <td>Lil Nas X &amp; Billy Ray Cyrus</td>\n",
       "      <td>Old Town Road (Lil Nas X &amp; Billy Ray Cyrus)</td>\n",
       "      <td>113.0</td>\n",
       "      <td>979037.0</td>\n",
       "      <td>False</td>\n",
       "      <td>0.0</td>\n",
       "      <td>2.0</td>\n",
       "    </tr>\n",
       "    <tr>\n",
       "      <th>1</th>\n",
       "      <td>2</td>\n",
       "      <td>ME!</td>\n",
       "      <td>Taylor Swift &amp; Brendon Urie</td>\n",
       "      <td>ME! (Taylor Swift &amp; Brendon Urie)</td>\n",
       "      <td>211.0</td>\n",
       "      <td>861619.0</td>\n",
       "      <td>False</td>\n",
       "      <td>0.0</td>\n",
       "      <td>0.0</td>\n",
       "    </tr>\n",
       "    <tr>\n",
       "      <th>2</th>\n",
       "      <td>3</td>\n",
       "      <td>Wow.</td>\n",
       "      <td>Post Malone</td>\n",
       "      <td>Wow. (Post Malone)</td>\n",
       "      <td>149.0</td>\n",
       "      <td>982674.0</td>\n",
       "      <td>True</td>\n",
       "      <td>1.0</td>\n",
       "      <td>0.0</td>\n",
       "    </tr>\n",
       "    <tr>\n",
       "      <th>3</th>\n",
       "      <td>4</td>\n",
       "      <td>Sucker</td>\n",
       "      <td>Jonas Brothers</td>\n",
       "      <td>Sucker (Jonas Brothers)</td>\n",
       "      <td>181.0</td>\n",
       "      <td>993735.0</td>\n",
       "      <td>False</td>\n",
       "      <td>0.0</td>\n",
       "      <td>0.0</td>\n",
       "    </tr>\n",
       "    <tr>\n",
       "      <th>4</th>\n",
       "      <td>5</td>\n",
       "      <td>Sunflower (Spider-Man: Into The Spider-Verse)</td>\n",
       "      <td>Post Malone &amp; Swae Lee</td>\n",
       "      <td>Sunflower (Spider-Man: Into The Spider-Verse) ...</td>\n",
       "      <td>158.0</td>\n",
       "      <td>977157.0</td>\n",
       "      <td>False</td>\n",
       "      <td>0.0</td>\n",
       "      <td>0.0</td>\n",
       "    </tr>\n",
       "  </tbody>\n",
       "</table>\n",
       "</div>"
      ],
      "text/plain": [
       "   Puesto                                           Tema  \\\n",
       "0       1                                  Old Town Road   \n",
       "1       2                                            ME!   \n",
       "2       3                                           Wow.   \n",
       "3       4                                         Sucker   \n",
       "4       5  Sunflower (Spider-Man: Into The Spider-Verse)   \n",
       "\n",
       "                      cantante  \\\n",
       "0  Lil Nas X & Billy Ray Cyrus   \n",
       "1  Taylor Swift & Brendon Urie   \n",
       "2                  Post Malone   \n",
       "3               Jonas Brothers   \n",
       "4       Post Malone & Swae Lee   \n",
       "\n",
       "                                             cancion   time  deezer_rank  \\\n",
       "0        Old Town Road (Lil Nas X & Billy Ray Cyrus)  113.0     979037.0   \n",
       "1                  ME! (Taylor Swift & Brendon Urie)  211.0     861619.0   \n",
       "2                                 Wow. (Post Malone)  149.0     982674.0   \n",
       "3                            Sucker (Jonas Brothers)  181.0     993735.0   \n",
       "4  Sunflower (Spider-Man: Into The Spider-Verse) ...  158.0     977157.0   \n",
       "\n",
       "   explicit_lyrics  explicit_content_lyrics  explicit_content_cover  \n",
       "0            False                      0.0                     2.0  \n",
       "1            False                      0.0                     0.0  \n",
       "2             True                      1.0                     0.0  \n",
       "3            False                      0.0                     0.0  \n",
       "4            False                      0.0                     0.0  "
      ]
     },
     "execution_count": 10,
     "metadata": {},
     "output_type": "execute_result"
    }
   ],
   "source": [
    "data.head()"
   ]
  },
  {
   "cell_type": "code",
   "execution_count": 11,
   "metadata": {},
   "outputs": [],
   "source": [
    "data.explicit_lyrics = data.explicit_lyrics.apply(lambda x: 1 if x == True else 0)"
   ]
  },
  {
   "cell_type": "code",
   "execution_count": 12,
   "metadata": {},
   "outputs": [
    {
     "data": {
      "text/html": [
       "<div>\n",
       "<style scoped>\n",
       "    .dataframe tbody tr th:only-of-type {\n",
       "        vertical-align: middle;\n",
       "    }\n",
       "\n",
       "    .dataframe tbody tr th {\n",
       "        vertical-align: top;\n",
       "    }\n",
       "\n",
       "    .dataframe thead th {\n",
       "        text-align: right;\n",
       "    }\n",
       "</style>\n",
       "<table border=\"1\" class=\"dataframe\">\n",
       "  <thead>\n",
       "    <tr style=\"text-align: right;\">\n",
       "      <th></th>\n",
       "      <th>Puesto</th>\n",
       "      <th>Tema</th>\n",
       "      <th>cantante</th>\n",
       "      <th>cancion</th>\n",
       "      <th>time</th>\n",
       "      <th>deezer_rank</th>\n",
       "      <th>explicit_lyrics</th>\n",
       "      <th>explicit_content_lyrics</th>\n",
       "      <th>explicit_content_cover</th>\n",
       "    </tr>\n",
       "  </thead>\n",
       "  <tbody>\n",
       "    <tr>\n",
       "      <th>0</th>\n",
       "      <td>1</td>\n",
       "      <td>Old Town Road</td>\n",
       "      <td>Lil Nas X &amp; Billy Ray Cyrus</td>\n",
       "      <td>Old Town Road (Lil Nas X &amp; Billy Ray Cyrus)</td>\n",
       "      <td>113.0</td>\n",
       "      <td>979037.0</td>\n",
       "      <td>0</td>\n",
       "      <td>0.0</td>\n",
       "      <td>2.0</td>\n",
       "    </tr>\n",
       "    <tr>\n",
       "      <th>1</th>\n",
       "      <td>2</td>\n",
       "      <td>ME!</td>\n",
       "      <td>Taylor Swift &amp; Brendon Urie</td>\n",
       "      <td>ME! (Taylor Swift &amp; Brendon Urie)</td>\n",
       "      <td>211.0</td>\n",
       "      <td>861619.0</td>\n",
       "      <td>0</td>\n",
       "      <td>0.0</td>\n",
       "      <td>0.0</td>\n",
       "    </tr>\n",
       "    <tr>\n",
       "      <th>2</th>\n",
       "      <td>3</td>\n",
       "      <td>Wow.</td>\n",
       "      <td>Post Malone</td>\n",
       "      <td>Wow. (Post Malone)</td>\n",
       "      <td>149.0</td>\n",
       "      <td>982674.0</td>\n",
       "      <td>1</td>\n",
       "      <td>1.0</td>\n",
       "      <td>0.0</td>\n",
       "    </tr>\n",
       "    <tr>\n",
       "      <th>3</th>\n",
       "      <td>4</td>\n",
       "      <td>Sucker</td>\n",
       "      <td>Jonas Brothers</td>\n",
       "      <td>Sucker (Jonas Brothers)</td>\n",
       "      <td>181.0</td>\n",
       "      <td>993735.0</td>\n",
       "      <td>0</td>\n",
       "      <td>0.0</td>\n",
       "      <td>0.0</td>\n",
       "    </tr>\n",
       "    <tr>\n",
       "      <th>4</th>\n",
       "      <td>5</td>\n",
       "      <td>Sunflower (Spider-Man: Into The Spider-Verse)</td>\n",
       "      <td>Post Malone &amp; Swae Lee</td>\n",
       "      <td>Sunflower (Spider-Man: Into The Spider-Verse) ...</td>\n",
       "      <td>158.0</td>\n",
       "      <td>977157.0</td>\n",
       "      <td>0</td>\n",
       "      <td>0.0</td>\n",
       "      <td>0.0</td>\n",
       "    </tr>\n",
       "  </tbody>\n",
       "</table>\n",
       "</div>"
      ],
      "text/plain": [
       "   Puesto                                           Tema  \\\n",
       "0       1                                  Old Town Road   \n",
       "1       2                                            ME!   \n",
       "2       3                                           Wow.   \n",
       "3       4                                         Sucker   \n",
       "4       5  Sunflower (Spider-Man: Into The Spider-Verse)   \n",
       "\n",
       "                      cantante  \\\n",
       "0  Lil Nas X & Billy Ray Cyrus   \n",
       "1  Taylor Swift & Brendon Urie   \n",
       "2                  Post Malone   \n",
       "3               Jonas Brothers   \n",
       "4       Post Malone & Swae Lee   \n",
       "\n",
       "                                             cancion   time  deezer_rank  \\\n",
       "0        Old Town Road (Lil Nas X & Billy Ray Cyrus)  113.0     979037.0   \n",
       "1                  ME! (Taylor Swift & Brendon Urie)  211.0     861619.0   \n",
       "2                                 Wow. (Post Malone)  149.0     982674.0   \n",
       "3                            Sucker (Jonas Brothers)  181.0     993735.0   \n",
       "4  Sunflower (Spider-Man: Into The Spider-Verse) ...  158.0     977157.0   \n",
       "\n",
       "   explicit_lyrics  explicit_content_lyrics  explicit_content_cover  \n",
       "0                0                      0.0                     2.0  \n",
       "1                0                      0.0                     0.0  \n",
       "2                1                      1.0                     0.0  \n",
       "3                0                      0.0                     0.0  \n",
       "4                0                      0.0                     0.0  "
      ]
     },
     "execution_count": 12,
     "metadata": {},
     "output_type": "execute_result"
    }
   ],
   "source": [
    "data.head()"
   ]
  },
  {
   "cell_type": "code",
   "execution_count": 13,
   "metadata": {},
   "outputs": [
    {
     "data": {
      "text/plain": [
       "Puesto                       int64\n",
       "Tema                        object\n",
       "cantante                    object\n",
       "cancion                     object\n",
       "time                       float64\n",
       "deezer_rank                float64\n",
       "explicit_lyrics              int64\n",
       "explicit_content_lyrics    float64\n",
       "explicit_content_cover     float64\n",
       "dtype: object"
      ]
     },
     "execution_count": 13,
     "metadata": {},
     "output_type": "execute_result"
    }
   ],
   "source": [
    "data.dtypes"
   ]
  },
  {
   "cell_type": "code",
   "execution_count": 14,
   "metadata": {},
   "outputs": [],
   "source": [
    "import numpy as np\n",
    "data['time'] = data['time'].apply(np.int64)\n",
    "data['deezer_rank'] = data['deezer_rank'].apply(np.int64)\n",
    "data['explicit_content_lyrics'] = data['explicit_content_lyrics'].apply(np.int64)\n",
    "data['explicit_content_cover'] = data['explicit_content_cover'].apply(np.int64)"
   ]
  },
  {
   "cell_type": "code",
   "execution_count": 15,
   "metadata": {},
   "outputs": [
    {
     "data": {
      "text/plain": [
       "Puesto                      int64\n",
       "Tema                       object\n",
       "cantante                   object\n",
       "cancion                    object\n",
       "time                        int64\n",
       "deezer_rank                 int64\n",
       "explicit_lyrics             int64\n",
       "explicit_content_lyrics     int64\n",
       "explicit_content_cover      int64\n",
       "dtype: object"
      ]
     },
     "execution_count": 15,
     "metadata": {},
     "output_type": "execute_result"
    }
   ],
   "source": [
    "data.dtypes"
   ]
  },
  {
   "cell_type": "code",
   "execution_count": 16,
   "metadata": {},
   "outputs": [
    {
     "data": {
      "text/html": [
       "<div>\n",
       "<style scoped>\n",
       "    .dataframe tbody tr th:only-of-type {\n",
       "        vertical-align: middle;\n",
       "    }\n",
       "\n",
       "    .dataframe tbody tr th {\n",
       "        vertical-align: top;\n",
       "    }\n",
       "\n",
       "    .dataframe thead th {\n",
       "        text-align: right;\n",
       "    }\n",
       "</style>\n",
       "<table border=\"1\" class=\"dataframe\">\n",
       "  <thead>\n",
       "    <tr style=\"text-align: right;\">\n",
       "      <th></th>\n",
       "      <th>Puesto</th>\n",
       "      <th>Tema</th>\n",
       "      <th>cantante</th>\n",
       "      <th>cancion</th>\n",
       "      <th>time</th>\n",
       "      <th>deezer_rank</th>\n",
       "      <th>explicit_lyrics</th>\n",
       "      <th>explicit_content_lyrics</th>\n",
       "      <th>explicit_content_cover</th>\n",
       "    </tr>\n",
       "  </thead>\n",
       "  <tbody>\n",
       "    <tr>\n",
       "      <th>0</th>\n",
       "      <td>1</td>\n",
       "      <td>Old Town Road</td>\n",
       "      <td>Lil Nas X &amp; Billy Ray Cyrus</td>\n",
       "      <td>Old Town Road (Lil Nas X &amp; Billy Ray Cyrus)</td>\n",
       "      <td>113</td>\n",
       "      <td>979037</td>\n",
       "      <td>0</td>\n",
       "      <td>0</td>\n",
       "      <td>2</td>\n",
       "    </tr>\n",
       "    <tr>\n",
       "      <th>1</th>\n",
       "      <td>2</td>\n",
       "      <td>ME!</td>\n",
       "      <td>Taylor Swift &amp; Brendon Urie</td>\n",
       "      <td>ME! (Taylor Swift &amp; Brendon Urie)</td>\n",
       "      <td>211</td>\n",
       "      <td>861619</td>\n",
       "      <td>0</td>\n",
       "      <td>0</td>\n",
       "      <td>0</td>\n",
       "    </tr>\n",
       "    <tr>\n",
       "      <th>2</th>\n",
       "      <td>3</td>\n",
       "      <td>Wow.</td>\n",
       "      <td>Post Malone</td>\n",
       "      <td>Wow. (Post Malone)</td>\n",
       "      <td>149</td>\n",
       "      <td>982674</td>\n",
       "      <td>1</td>\n",
       "      <td>1</td>\n",
       "      <td>0</td>\n",
       "    </tr>\n",
       "    <tr>\n",
       "      <th>3</th>\n",
       "      <td>4</td>\n",
       "      <td>Sucker</td>\n",
       "      <td>Jonas Brothers</td>\n",
       "      <td>Sucker (Jonas Brothers)</td>\n",
       "      <td>181</td>\n",
       "      <td>993735</td>\n",
       "      <td>0</td>\n",
       "      <td>0</td>\n",
       "      <td>0</td>\n",
       "    </tr>\n",
       "    <tr>\n",
       "      <th>4</th>\n",
       "      <td>5</td>\n",
       "      <td>Sunflower (Spider-Man: Into The Spider-Verse)</td>\n",
       "      <td>Post Malone &amp; Swae Lee</td>\n",
       "      <td>Sunflower (Spider-Man: Into The Spider-Verse) ...</td>\n",
       "      <td>158</td>\n",
       "      <td>977157</td>\n",
       "      <td>0</td>\n",
       "      <td>0</td>\n",
       "      <td>0</td>\n",
       "    </tr>\n",
       "  </tbody>\n",
       "</table>\n",
       "</div>"
      ],
      "text/plain": [
       "   Puesto                                           Tema  \\\n",
       "0       1                                  Old Town Road   \n",
       "1       2                                            ME!   \n",
       "2       3                                           Wow.   \n",
       "3       4                                         Sucker   \n",
       "4       5  Sunflower (Spider-Man: Into The Spider-Verse)   \n",
       "\n",
       "                      cantante  \\\n",
       "0  Lil Nas X & Billy Ray Cyrus   \n",
       "1  Taylor Swift & Brendon Urie   \n",
       "2                  Post Malone   \n",
       "3               Jonas Brothers   \n",
       "4       Post Malone & Swae Lee   \n",
       "\n",
       "                                             cancion  time  deezer_rank  \\\n",
       "0        Old Town Road (Lil Nas X & Billy Ray Cyrus)   113       979037   \n",
       "1                  ME! (Taylor Swift & Brendon Urie)   211       861619   \n",
       "2                                 Wow. (Post Malone)   149       982674   \n",
       "3                            Sucker (Jonas Brothers)   181       993735   \n",
       "4  Sunflower (Spider-Man: Into The Spider-Verse) ...   158       977157   \n",
       "\n",
       "   explicit_lyrics  explicit_content_lyrics  explicit_content_cover  \n",
       "0                0                        0                       2  \n",
       "1                0                        0                       0  \n",
       "2                1                        1                       0  \n",
       "3                0                        0                       0  \n",
       "4                0                        0                       0  "
      ]
     },
     "execution_count": 16,
     "metadata": {},
     "output_type": "execute_result"
    }
   ],
   "source": [
    "data.head()"
   ]
  },
  {
   "cell_type": "code",
   "execution_count": 17,
   "metadata": {},
   "outputs": [],
   "source": [
    "artistas = data.cantante"
   ]
  },
  {
   "cell_type": "code",
   "execution_count": 18,
   "metadata": {},
   "outputs": [],
   "source": [
    "for x in range (0, len(artistas)):\n",
    "    url = 'https://www.google.es/search?ei=kZzMXKWUJpy75OUPs6OvqAc&q=' + artistas[x].split(' &')[0] + '+edad&oq=' + artistas[x].split(' &')[0] + '+edad&gs_l=psy-ab.3..0i70i251.7054.7621..7845...0.0..0.109.421.4j1......0....1..gws-wiz.......0i67j0j0i22i30.__AALxE8064'\n",
    "    response = requests.get(url, headers={'User-Agent': 'Mozilla/5.0 (Platform; Security; OS-or-CPU; Localization; rv:1.4) Gecko/20030624 Netscape/7.1 (ax)'})\n",
    "    if response.status_code == 200:\n",
    "        soup = BeautifulSoup(response.text, \"html.parser\")\n",
    "        \n",
    "        nacimiento = soup.find('span', {'class': 'A1t5ne'})\n",
    "        \n",
    "        if nacimiento is None:\n",
    "            fechaNacimiento == 'sd'\n",
    "        else:\n",
    "            fechaNacimiento = soup.find('span', {'class': 'A1t5ne'}).get_text()\n",
    "        \n",
    "        data.loc[x, 'nacimiento'] = fechaNacimiento"
   ]
  },
  {
   "cell_type": "code",
   "execution_count": 19,
   "metadata": {},
   "outputs": [
    {
     "data": {
      "text/html": [
       "<div>\n",
       "<style scoped>\n",
       "    .dataframe tbody tr th:only-of-type {\n",
       "        vertical-align: middle;\n",
       "    }\n",
       "\n",
       "    .dataframe tbody tr th {\n",
       "        vertical-align: top;\n",
       "    }\n",
       "\n",
       "    .dataframe thead th {\n",
       "        text-align: right;\n",
       "    }\n",
       "</style>\n",
       "<table border=\"1\" class=\"dataframe\">\n",
       "  <thead>\n",
       "    <tr style=\"text-align: right;\">\n",
       "      <th></th>\n",
       "      <th>Puesto</th>\n",
       "      <th>Tema</th>\n",
       "      <th>cantante</th>\n",
       "      <th>cancion</th>\n",
       "      <th>time</th>\n",
       "      <th>deezer_rank</th>\n",
       "      <th>explicit_lyrics</th>\n",
       "      <th>explicit_content_lyrics</th>\n",
       "      <th>explicit_content_cover</th>\n",
       "      <th>nacimiento</th>\n",
       "    </tr>\n",
       "  </thead>\n",
       "  <tbody>\n",
       "    <tr>\n",
       "      <th>0</th>\n",
       "      <td>1</td>\n",
       "      <td>Old Town Road</td>\n",
       "      <td>Lil Nas X &amp; Billy Ray Cyrus</td>\n",
       "      <td>Old Town Road (Lil Nas X &amp; Billy Ray Cyrus)</td>\n",
       "      <td>113</td>\n",
       "      <td>979037</td>\n",
       "      <td>0</td>\n",
       "      <td>0</td>\n",
       "      <td>2</td>\n",
       "      <td>9 de abril de 1999 (edad 20 años), Atlanta, Ge...</td>\n",
       "    </tr>\n",
       "    <tr>\n",
       "      <th>1</th>\n",
       "      <td>2</td>\n",
       "      <td>ME!</td>\n",
       "      <td>Taylor Swift &amp; Brendon Urie</td>\n",
       "      <td>ME! (Taylor Swift &amp; Brendon Urie)</td>\n",
       "      <td>211</td>\n",
       "      <td>861619</td>\n",
       "      <td>0</td>\n",
       "      <td>0</td>\n",
       "      <td>0</td>\n",
       "      <td>13 de diciembre de 1989 (edad 29 años), Readin...</td>\n",
       "    </tr>\n",
       "    <tr>\n",
       "      <th>2</th>\n",
       "      <td>3</td>\n",
       "      <td>Wow.</td>\n",
       "      <td>Post Malone</td>\n",
       "      <td>Wow. (Post Malone)</td>\n",
       "      <td>149</td>\n",
       "      <td>982674</td>\n",
       "      <td>1</td>\n",
       "      <td>1</td>\n",
       "      <td>0</td>\n",
       "      <td>4 de julio de 1995 (edad 23 años), Siracusa, N...</td>\n",
       "    </tr>\n",
       "  </tbody>\n",
       "</table>\n",
       "</div>"
      ],
      "text/plain": [
       "   Puesto           Tema                     cantante  \\\n",
       "0       1  Old Town Road  Lil Nas X & Billy Ray Cyrus   \n",
       "1       2            ME!  Taylor Swift & Brendon Urie   \n",
       "2       3           Wow.                  Post Malone   \n",
       "\n",
       "                                       cancion  time  deezer_rank  \\\n",
       "0  Old Town Road (Lil Nas X & Billy Ray Cyrus)   113       979037   \n",
       "1            ME! (Taylor Swift & Brendon Urie)   211       861619   \n",
       "2                           Wow. (Post Malone)   149       982674   \n",
       "\n",
       "   explicit_lyrics  explicit_content_lyrics  explicit_content_cover  \\\n",
       "0                0                        0                       2   \n",
       "1                0                        0                       0   \n",
       "2                1                        1                       0   \n",
       "\n",
       "                                          nacimiento  \n",
       "0  9 de abril de 1999 (edad 20 años), Atlanta, Ge...  \n",
       "1  13 de diciembre de 1989 (edad 29 años), Readin...  \n",
       "2  4 de julio de 1995 (edad 23 años), Siracusa, N...  "
      ]
     },
     "execution_count": 19,
     "metadata": {},
     "output_type": "execute_result"
    }
   ],
   "source": [
    "data.head(3)"
   ]
  },
  {
   "cell_type": "code",
   "execution_count": 20,
   "metadata": {},
   "outputs": [],
   "source": [
    "nuevaData = data.nacimiento"
   ]
  },
  {
   "cell_type": "code",
   "execution_count": 21,
   "metadata": {
    "scrolled": false
   },
   "outputs": [],
   "source": [
    "def mesANumero(string):\n",
    "    m = {\n",
    "        'enero': \"1\",\n",
    "        'febrero': \"2\",\n",
    "        'marzo': \"3\",\n",
    "        'abril': \"4\",\n",
    "        'mayo': \"5\",\n",
    "        'junio': \"6\",\n",
    "        'julio': \"7\",\n",
    "        'agosto': \"8\",\n",
    "        'septiembre': \"9\",\n",
    "        'octubre': \"10\",\n",
    "        'noviembre': \"11\",\n",
    "        'diciembre': \"12\"\n",
    "        }\n",
    "\n",
    "    fecha = string.split(\" \")\n",
    "    dia =  fecha[0]\n",
    "    mes =  fecha[2]\n",
    "    anio = fecha[4]\n",
    "\n",
    "    try:\n",
    "        \n",
    "        out = str(m[mes.lower()])\n",
    "        return dia + \"-\" +  out + \"-\" + anio\n",
    "    except:\n",
    "        \n",
    "        raise ValueError('No es un mes')\n",
    "        \n",
    "for x in range (0, len(nuevaData)):\n",
    "    \n",
    "    elementos = len(nuevaData[x].split(','))\n",
    "    separar = nuevaData[x].split(',')\n",
    "\n",
    "    if elementos == 5:\n",
    "        \n",
    "        ciudad = separar[2]\n",
    "        provincia = separar[3]\n",
    "        pais = separar[4]\n",
    "        nacimiento = separar[0].split('(')\n",
    "        fecha_final = mesANumero(nacimiento[0])\n",
    "        \n",
    "    elif elementos == 4:\n",
    "        \n",
    "        verificacion = [k for k in separar[0] if k.isdigit()]\n",
    "        \n",
    "        ciudad = separar[1]\n",
    "        provincia = separar[2]\n",
    "        pais = separar[3]\n",
    "        \n",
    "        if len(verificacion) <= 4:\n",
    "            \n",
    "            fecha_final = ''\n",
    "            \n",
    "        else:\n",
    "            \n",
    "            nacimiento = separar[0].split('(')\n",
    "            fecha_final = mesANumero(nacimiento[0])\n",
    "            \n",
    "    elif elementos == 3:\n",
    "        \n",
    "        verificacion = [k for k in separar[0] if k.isdigit()]\n",
    "        \n",
    "        if len(verificacion) == 0:\n",
    "            \n",
    "            nacimiento = ''\n",
    "            ciudad = separar[0]\n",
    "            provincia = separar[1]\n",
    "            pais = separar[2]\n",
    " \n",
    "        if len(verificacion) != 0:\n",
    "        \n",
    "            ciudad = ''\n",
    "            provincia = separar[1]\n",
    "            pais = separar[2]\n",
    "            nacimiento = separar[0].split('(')\n",
    "            fecha_final = mesANumero(nacimiento[0])\n",
    "            \n",
    "    else :\n",
    "        \n",
    "        ciudad = 'sd'\n",
    "        provincia = 'sd'\n",
    "        pais = 'sd'\n",
    "        fecha_final = 'sd'\n",
    "            \n",
    "    data.loc[x, 'fecha_nacimiento'] = fecha_final\n",
    "    data.loc[x, 'ciudad'] = ciudad\n",
    "    data.loc[x, 'provincia'] = provincia\n",
    "    data.loc[x, 'pais'] = pais"
   ]
  },
  {
   "cell_type": "code",
   "execution_count": 22,
   "metadata": {},
   "outputs": [
    {
     "data": {
      "text/html": [
       "<div>\n",
       "<style scoped>\n",
       "    .dataframe tbody tr th:only-of-type {\n",
       "        vertical-align: middle;\n",
       "    }\n",
       "\n",
       "    .dataframe tbody tr th {\n",
       "        vertical-align: top;\n",
       "    }\n",
       "\n",
       "    .dataframe thead th {\n",
       "        text-align: right;\n",
       "    }\n",
       "</style>\n",
       "<table border=\"1\" class=\"dataframe\">\n",
       "  <thead>\n",
       "    <tr style=\"text-align: right;\">\n",
       "      <th></th>\n",
       "      <th>Puesto</th>\n",
       "      <th>Tema</th>\n",
       "      <th>cantante</th>\n",
       "      <th>cancion</th>\n",
       "      <th>time</th>\n",
       "      <th>deezer_rank</th>\n",
       "      <th>explicit_lyrics</th>\n",
       "      <th>explicit_content_lyrics</th>\n",
       "      <th>explicit_content_cover</th>\n",
       "      <th>nacimiento</th>\n",
       "      <th>fecha_nacimiento</th>\n",
       "      <th>ciudad</th>\n",
       "      <th>provincia</th>\n",
       "      <th>pais</th>\n",
       "    </tr>\n",
       "  </thead>\n",
       "  <tbody>\n",
       "    <tr>\n",
       "      <th>0</th>\n",
       "      <td>1</td>\n",
       "      <td>Old Town Road</td>\n",
       "      <td>Lil Nas X &amp; Billy Ray Cyrus</td>\n",
       "      <td>Old Town Road (Lil Nas X &amp; Billy Ray Cyrus)</td>\n",
       "      <td>113</td>\n",
       "      <td>979037</td>\n",
       "      <td>0</td>\n",
       "      <td>0</td>\n",
       "      <td>2</td>\n",
       "      <td>9 de abril de 1999 (edad 20 años), Atlanta, Ge...</td>\n",
       "      <td>9-4-1999</td>\n",
       "      <td>Atlanta</td>\n",
       "      <td>Georgia</td>\n",
       "      <td>Estados Unidos</td>\n",
       "    </tr>\n",
       "    <tr>\n",
       "      <th>1</th>\n",
       "      <td>2</td>\n",
       "      <td>ME!</td>\n",
       "      <td>Taylor Swift &amp; Brendon Urie</td>\n",
       "      <td>ME! (Taylor Swift &amp; Brendon Urie)</td>\n",
       "      <td>211</td>\n",
       "      <td>861619</td>\n",
       "      <td>0</td>\n",
       "      <td>0</td>\n",
       "      <td>0</td>\n",
       "      <td>13 de diciembre de 1989 (edad 29 años), Readin...</td>\n",
       "      <td>13-12-1989</td>\n",
       "      <td>Reading</td>\n",
       "      <td>Pensilvania</td>\n",
       "      <td>Estados Unidos</td>\n",
       "    </tr>\n",
       "  </tbody>\n",
       "</table>\n",
       "</div>"
      ],
      "text/plain": [
       "   Puesto           Tema                     cantante  \\\n",
       "0       1  Old Town Road  Lil Nas X & Billy Ray Cyrus   \n",
       "1       2            ME!  Taylor Swift & Brendon Urie   \n",
       "\n",
       "                                       cancion  time  deezer_rank  \\\n",
       "0  Old Town Road (Lil Nas X & Billy Ray Cyrus)   113       979037   \n",
       "1            ME! (Taylor Swift & Brendon Urie)   211       861619   \n",
       "\n",
       "   explicit_lyrics  explicit_content_lyrics  explicit_content_cover  \\\n",
       "0                0                        0                       2   \n",
       "1                0                        0                       0   \n",
       "\n",
       "                                          nacimiento fecha_nacimiento  \\\n",
       "0  9 de abril de 1999 (edad 20 años), Atlanta, Ge...         9-4-1999   \n",
       "1  13 de diciembre de 1989 (edad 29 años), Readin...       13-12-1989   \n",
       "\n",
       "     ciudad     provincia             pais  \n",
       "0   Atlanta       Georgia   Estados Unidos  \n",
       "1   Reading   Pensilvania   Estados Unidos  "
      ]
     },
     "execution_count": 22,
     "metadata": {},
     "output_type": "execute_result"
    }
   ],
   "source": [
    "data.head(2)"
   ]
  },
  {
   "cell_type": "code",
   "execution_count": 23,
   "metadata": {},
   "outputs": [
    {
     "name": "stdout",
     "output_type": "stream",
     "text": [
      "3 12 0 0\n"
     ]
    }
   ],
   "source": [
    "print(len(data[data.fecha_nacimiento == '']), len(data[data.ciudad == '']), \n",
    "      len(data[data.provincia == '']), len(data[data.pais == '']))"
   ]
  },
  {
   "cell_type": "code",
   "execution_count": 24,
   "metadata": {},
   "outputs": [],
   "source": [
    "for x in range (0, len(data)):\n",
    "    if data.ciudad[x] == '':\n",
    "        data.loc[x, 'ciudad'] = data.provincia[x]\n",
    "\n",
    "for x in range (0, len(data)):\n",
    "    if data.fecha_nacimiento[x] == '':\n",
    "        data.loc[x, 'fecha_nacimiento'] = 'sd'"
   ]
  },
  {
   "cell_type": "code",
   "execution_count": 25,
   "metadata": {},
   "outputs": [
    {
     "name": "stdout",
     "output_type": "stream",
     "text": [
      "0 0 0 0\n"
     ]
    }
   ],
   "source": [
    "print(len(data[data.fecha_nacimiento == '']), len(data[data.ciudad == '']), \n",
    "    len(data[data.provincia == '']), len(data[data.pais == '']))"
   ]
  },
  {
   "cell_type": "code",
   "execution_count": 26,
   "metadata": {},
   "outputs": [],
   "source": [
    "data.ciudad = data.ciudad.apply(lambda x : \" \".join(x.split()).lower())\n",
    "data.provincia = data.provincia.apply(lambda x : \" \".join(x.split()).lower())\n",
    "data.pais = data.pais.apply(lambda x : \" \".join(x.split()).lower())\n",
    "data.ciudad = data.ciudad.apply(lambda x : x.replace('lenox hill hospital', 'sd'))\n",
    "data.ciudad = data.ciudad.apply(lambda x : x.replace('municipio de cheltenham', 'sd'))\n",
    "data.ciudad = data.ciudad.apply(lambda x : x.replace('halsey', 'sd'))\n",
    "data.ciudad = data.ciudad.apply(lambda x : x.replace('andrew taggart', 'sd'))\n",
    "data.provincia = data.provincia.apply(lambda x : x.replace('fráncfort del meno', 'sd'))\n",
    "data.provincia = data.provincia.apply(lambda x : x.replace('khalid', 'sd'))\n",
    "data.provincia = data.provincia.apply(lambda x : x.replace('alex pall', 'sd'))\n",
    "data.pais = data.pais.apply(lambda x : x.replace('benny blanco', 'sd'))\n",
    "data.pais = data.pais.apply(lambda x : x.replace('rhett bixler', 'sd'))\n",
    "data.pais = data.pais.apply(lambda x : x.replace('ee. uu.', 'estados unidos'))"
   ]
  },
  {
   "cell_type": "code",
   "execution_count": 27,
   "metadata": {},
   "outputs": [
    {
     "data": {
      "text/plain": [
       "array(['atlanta', 'reading', 'siracusa', 'boca ratón', 'edison',\n",
       "       'londres', 'los ángeles', 'fort stewart', 'milwaukee',\n",
       "       'fráncfort del meno', 'filadelfia', 'sd', 'el bronx', 'plaistow',\n",
       "       'houston', 'sídney', 'cleveland', 'charlotte', 'highbridge',\n",
       "       'sneedville', 'ada', 'san juan', 'ormond beach', 'lafayette',\n",
       "       'gifford', 'chattanooga', 'lawrenceville', 'doylestown',\n",
       "       'valdosta', 'anaheim', 'dixon', 'sumter', 'mascot', 'norfolk',\n",
       "       'blue ivy carter', 'wiesbaden', 'chicago', 'arlington',\n",
       "       'allentown', 'frayser', 'san francisco', 'sebastopol', 'carolina',\n",
       "       'paris', 'condado de broward', 'leesburg', 'estocolmo'],\n",
       "      dtype=object)"
      ]
     },
     "execution_count": 27,
     "metadata": {},
     "output_type": "execute_result"
    }
   ],
   "source": [
    "data.ciudad.unique()"
   ]
  },
  {
   "cell_type": "code",
   "execution_count": 28,
   "metadata": {},
   "outputs": [
    {
     "data": {
      "text/plain": [
       "array(['georgia', 'pensilvania', 'nueva york', 'florida', 'nueva jersey',\n",
       "       'londres', 'california', 'wisconsin', 'sd', 'texas', 'sídney',\n",
       "       'ohio', 'carolina del norte', 'tennessee', 'oklahoma', 'san juan',\n",
       "       'luisiana', 'carolina del sur', 'va 23529', 'rumi carter',\n",
       "       'wiesbaden', 'illinois', 'carolina', 'estocolmo'], dtype=object)"
      ]
     },
     "execution_count": 28,
     "metadata": {},
     "output_type": "execute_result"
    }
   ],
   "source": [
    "data.provincia.unique()"
   ]
  },
  {
   "cell_type": "code",
   "execution_count": 29,
   "metadata": {},
   "outputs": [
    {
     "data": {
      "text/plain": [
       "array(['estados unidos', 'reino unido', 'alemania', 'australia',\n",
       "       'puerto rico', 'sir carter', 'sd', 'suecia'], dtype=object)"
      ]
     },
     "execution_count": 29,
     "metadata": {},
     "output_type": "execute_result"
    }
   ],
   "source": [
    "data.pais.unique()"
   ]
  },
  {
   "cell_type": "code",
   "execution_count": 30,
   "metadata": {},
   "outputs": [
    {
     "name": "stdout",
     "output_type": "stream",
     "text": [
      "47 24 8\n"
     ]
    }
   ],
   "source": [
    "print(len(data.ciudad.unique()), len(data.provincia.unique()), len(data.pais.unique()))"
   ]
  },
  {
   "cell_type": "code",
   "execution_count": 31,
   "metadata": {},
   "outputs": [
    {
     "data": {
      "text/html": [
       "<div>\n",
       "<style scoped>\n",
       "    .dataframe tbody tr th:only-of-type {\n",
       "        vertical-align: middle;\n",
       "    }\n",
       "\n",
       "    .dataframe tbody tr th {\n",
       "        vertical-align: top;\n",
       "    }\n",
       "\n",
       "    .dataframe thead th {\n",
       "        text-align: right;\n",
       "    }\n",
       "</style>\n",
       "<table border=\"1\" class=\"dataframe\">\n",
       "  <thead>\n",
       "    <tr style=\"text-align: right;\">\n",
       "      <th></th>\n",
       "      <th>Puesto</th>\n",
       "      <th>Tema</th>\n",
       "      <th>cantante</th>\n",
       "      <th>cancion</th>\n",
       "      <th>time</th>\n",
       "      <th>deezer_rank</th>\n",
       "      <th>explicit_lyrics</th>\n",
       "      <th>explicit_content_lyrics</th>\n",
       "      <th>explicit_content_cover</th>\n",
       "      <th>nacimiento</th>\n",
       "      <th>fecha_nacimiento</th>\n",
       "      <th>ciudad</th>\n",
       "      <th>provincia</th>\n",
       "      <th>pais</th>\n",
       "    </tr>\n",
       "  </thead>\n",
       "  <tbody>\n",
       "    <tr>\n",
       "      <th>0</th>\n",
       "      <td>1</td>\n",
       "      <td>Old Town Road</td>\n",
       "      <td>Lil Nas X &amp; Billy Ray Cyrus</td>\n",
       "      <td>Old Town Road (Lil Nas X &amp; Billy Ray Cyrus)</td>\n",
       "      <td>113</td>\n",
       "      <td>979037</td>\n",
       "      <td>0</td>\n",
       "      <td>0</td>\n",
       "      <td>2</td>\n",
       "      <td>9 de abril de 1999 (edad 20 años), Atlanta, Ge...</td>\n",
       "      <td>9-4-1999</td>\n",
       "      <td>atlanta</td>\n",
       "      <td>georgia</td>\n",
       "      <td>estados unidos</td>\n",
       "    </tr>\n",
       "  </tbody>\n",
       "</table>\n",
       "</div>"
      ],
      "text/plain": [
       "   Puesto           Tema                     cantante  \\\n",
       "0       1  Old Town Road  Lil Nas X & Billy Ray Cyrus   \n",
       "\n",
       "                                       cancion  time  deezer_rank  \\\n",
       "0  Old Town Road (Lil Nas X & Billy Ray Cyrus)   113       979037   \n",
       "\n",
       "   explicit_lyrics  explicit_content_lyrics  explicit_content_cover  \\\n",
       "0                0                        0                       2   \n",
       "\n",
       "                                          nacimiento fecha_nacimiento  \\\n",
       "0  9 de abril de 1999 (edad 20 años), Atlanta, Ge...         9-4-1999   \n",
       "\n",
       "    ciudad provincia            pais  \n",
       "0  atlanta   georgia  estados unidos  "
      ]
     },
     "execution_count": 31,
     "metadata": {},
     "output_type": "execute_result"
    }
   ],
   "source": [
    "data.head(1)"
   ]
  },
  {
   "cell_type": "code",
   "execution_count": 32,
   "metadata": {},
   "outputs": [
    {
     "data": {
      "text/plain": [
       "0    Lil Nas X & Billy Ray Cyrus\n",
       "1    Taylor Swift & Brendon Urie\n",
       "2                    Post Malone\n",
       "3                 Jonas Brothers\n",
       "4         Post Malone & Swae Lee\n",
       "Name: cantante, dtype: object"
      ]
     },
     "execution_count": 32,
     "metadata": {},
     "output_type": "execute_result"
    }
   ],
   "source": [
    "artistas.head()"
   ]
  },
  {
   "cell_type": "code",
   "execution_count": 33,
   "metadata": {
    "scrolled": false
   },
   "outputs": [],
   "source": [
    "for x in range (0, len(artistas)):\n",
    "    url = 'https://www.google.com/search?rlz=1C1GCEU_esAR821AR821&ei=BTbQXLS5C6ik5OUP76uX2A4&q='+artistas[x].split(' &')[0]+'+genero&oq='+artistas[x].split(' &')[0]+'+genero&gs_l=psy-ab.3..0j0i22i30l5.33988.35043..35208...0.0..0.144.765.4j3......0....1..gws-wiz.......0i67j0i131i67j0i131j0i22i10i30.g3gr1OFMcB8'\n",
    "    responses = requests.get(url, headers={'User-Agent': 'Mozilla/5.0 (Platform; Security; OS-or-CPU; Localization; rv:1.4) Gecko/20030624 Netscape/7.1 (ax)'})\n",
    "    if response.status_code == 200:\n",
    "        soup = BeautifulSoup(responses.text, \"html.parser\")\n",
    "        soup_string = str(soup)\n",
    "        if 'Hip hop' in soup_string:\n",
    "            data.loc[x, 'genero'] = 'Hip Hop'\n",
    "        elif 'Rock' in soup_string:\n",
    "            data.loc[x, 'genero'] = 'Rock'\n",
    "        elif 'Pop' in soup_string:\n",
    "            data.loc[x, 'genero'] = 'Pop'\n",
    "        elif 'Country' in soup_string:\n",
    "            data.loc[x, 'genero'] = 'Country'\n",
    "        elif 'Rap' in soup_string:\n",
    "            data.loc[x, 'genero'] = 'Rap'\n",
    "        elif 'Future bass' in soup_string:\n",
    "            data.loc[x, 'genero'] = 'Future bass'   \n",
    "        else:\n",
    "            data.loc[x, 'genero'] = 'No Data'"
   ]
  },
  {
   "cell_type": "code",
   "execution_count": 34,
   "metadata": {},
   "outputs": [
    {
     "data": {
      "text/html": [
       "<div>\n",
       "<style scoped>\n",
       "    .dataframe tbody tr th:only-of-type {\n",
       "        vertical-align: middle;\n",
       "    }\n",
       "\n",
       "    .dataframe tbody tr th {\n",
       "        vertical-align: top;\n",
       "    }\n",
       "\n",
       "    .dataframe thead th {\n",
       "        text-align: right;\n",
       "    }\n",
       "</style>\n",
       "<table border=\"1\" class=\"dataframe\">\n",
       "  <thead>\n",
       "    <tr style=\"text-align: right;\">\n",
       "      <th></th>\n",
       "      <th>Puesto</th>\n",
       "      <th>Tema</th>\n",
       "      <th>cantante</th>\n",
       "      <th>cancion</th>\n",
       "      <th>time</th>\n",
       "      <th>deezer_rank</th>\n",
       "      <th>explicit_lyrics</th>\n",
       "      <th>explicit_content_lyrics</th>\n",
       "      <th>explicit_content_cover</th>\n",
       "      <th>nacimiento</th>\n",
       "      <th>fecha_nacimiento</th>\n",
       "      <th>ciudad</th>\n",
       "      <th>provincia</th>\n",
       "      <th>pais</th>\n",
       "      <th>genero</th>\n",
       "    </tr>\n",
       "  </thead>\n",
       "  <tbody>\n",
       "    <tr>\n",
       "      <th>0</th>\n",
       "      <td>1</td>\n",
       "      <td>Old Town Road</td>\n",
       "      <td>Lil Nas X &amp; Billy Ray Cyrus</td>\n",
       "      <td>Old Town Road (Lil Nas X &amp; Billy Ray Cyrus)</td>\n",
       "      <td>113</td>\n",
       "      <td>979037</td>\n",
       "      <td>0</td>\n",
       "      <td>0</td>\n",
       "      <td>2</td>\n",
       "      <td>9 de abril de 1999 (edad 20 años), Atlanta, Ge...</td>\n",
       "      <td>9-4-1999</td>\n",
       "      <td>atlanta</td>\n",
       "      <td>georgia</td>\n",
       "      <td>estados unidos</td>\n",
       "      <td>Hip Hop</td>\n",
       "    </tr>\n",
       "    <tr>\n",
       "      <th>1</th>\n",
       "      <td>2</td>\n",
       "      <td>ME!</td>\n",
       "      <td>Taylor Swift &amp; Brendon Urie</td>\n",
       "      <td>ME! (Taylor Swift &amp; Brendon Urie)</td>\n",
       "      <td>211</td>\n",
       "      <td>861619</td>\n",
       "      <td>0</td>\n",
       "      <td>0</td>\n",
       "      <td>0</td>\n",
       "      <td>13 de diciembre de 1989 (edad 29 años), Readin...</td>\n",
       "      <td>13-12-1989</td>\n",
       "      <td>reading</td>\n",
       "      <td>pensilvania</td>\n",
       "      <td>estados unidos</td>\n",
       "      <td>Pop</td>\n",
       "    </tr>\n",
       "  </tbody>\n",
       "</table>\n",
       "</div>"
      ],
      "text/plain": [
       "   Puesto           Tema                     cantante  \\\n",
       "0       1  Old Town Road  Lil Nas X & Billy Ray Cyrus   \n",
       "1       2            ME!  Taylor Swift & Brendon Urie   \n",
       "\n",
       "                                       cancion  time  deezer_rank  \\\n",
       "0  Old Town Road (Lil Nas X & Billy Ray Cyrus)   113       979037   \n",
       "1            ME! (Taylor Swift & Brendon Urie)   211       861619   \n",
       "\n",
       "   explicit_lyrics  explicit_content_lyrics  explicit_content_cover  \\\n",
       "0                0                        0                       2   \n",
       "1                0                        0                       0   \n",
       "\n",
       "                                          nacimiento fecha_nacimiento  \\\n",
       "0  9 de abril de 1999 (edad 20 años), Atlanta, Ge...         9-4-1999   \n",
       "1  13 de diciembre de 1989 (edad 29 años), Readin...       13-12-1989   \n",
       "\n",
       "    ciudad    provincia            pais   genero  \n",
       "0  atlanta      georgia  estados unidos  Hip Hop  \n",
       "1  reading  pensilvania  estados unidos      Pop  "
      ]
     },
     "execution_count": 34,
     "metadata": {},
     "output_type": "execute_result"
    }
   ],
   "source": [
    "data.head(2)"
   ]
  },
  {
   "cell_type": "code",
   "execution_count": 35,
   "metadata": {},
   "outputs": [],
   "source": [
    "for x in range(0, len(data)):\n",
    "    if data.fecha_nacimiento[x] != 'sd':\n",
    "        data.loc[x, 'anio'] = data.fecha_nacimiento[x][-4:]\n",
    "    else:\n",
    "        data.loc[x, 'anio'] = 'sd'"
   ]
  },
  {
   "cell_type": "code",
   "execution_count": 36,
   "metadata": {},
   "outputs": [
    {
     "data": {
      "text/plain": [
       "(100, 16)"
      ]
     },
     "execution_count": 36,
     "metadata": {},
     "output_type": "execute_result"
    }
   ],
   "source": [
    "data.shape"
   ]
  },
  {
   "cell_type": "code",
   "execution_count": 37,
   "metadata": {},
   "outputs": [
    {
     "name": "stdout",
     "output_type": "stream",
     "text": [
      "Ending - time: 0:03:39.378000\n"
     ]
    }
   ],
   "source": [
    "timeFinish += (time() - start_time)\n",
    "print('Ending - time: ' + str(timedelta(seconds=timeFinish)))"
   ]
  },
  {
   "cell_type": "code",
   "execution_count": 38,
   "metadata": {},
   "outputs": [],
   "source": [
    "data.to_excel('billBoardCompleto.xlsx')"
   ]
  },
  {
   "cell_type": "code",
   "execution_count": 39,
   "metadata": {},
   "outputs": [
    {
     "data": {
      "image/png": "[encoded data removed]",
      "text/plain": [
       "<Figure size 864x360 with 1 Axes>"
      ]
     },
     "metadata": {
      "needs_background": "light"
     },
     "output_type": "display_data"
    }
   ],
   "source": [
    "plt.figure(figsize=(12,5))\n",
    "ax = sns.countplot('genero', data = data,\n",
    "                  palette= palette)\n",
    "plt.title('Total por genero musical', size=20)\n",
    "plt.ylabel('Total')\n",
    "plt.show()"
   ]
  },
  {
   "cell_type": "code",
   "execution_count": 40,
   "metadata": {},
   "outputs": [
    {
     "data": {
      "image/png": "[encoded data removed]",
      "text/plain": [
       "<Figure size 864x360 with 1 Axes>"
      ]
     },
     "metadata": {
      "needs_background": "light"
     },
     "output_type": "display_data"
    }
   ],
   "source": [
    "plt.figure(figsize=(12,5))\n",
    "ax = sns.countplot('pais', data = data,\n",
    "                  palette= palette)\n",
    "plt.title('Total artistas por pais', size=20)\n",
    "plt.ylabel('Total')\n",
    "plt.show()"
   ]
  },
  {
   "cell_type": "code",
   "execution_count": 41,
   "metadata": {},
   "outputs": [
    {
     "data": {
      "image/png": "[encoded data removed]",
      "text/plain": [
       "<Figure size 864x360 with 1 Axes>"
      ]
     },
     "metadata": {
      "needs_background": "light"
     },
     "output_type": "display_data"
    }
   ],
   "source": [
    "plt.figure(figsize=(12,5))\n",
    "ax = sns.countplot('anio', data = data,\n",
    "                  palette= palette,\n",
    "                  order = data['anio'].value_counts().index)\n",
    "plt.title('Fechas nacimiento agrupadas', size=20)\n",
    "plt.ylabel('Total')\n",
    "plt.show()"
   ]
  },
  {
   "cell_type": "code",
   "execution_count": 42,
   "metadata": {
    "scrolled": false
   },
   "outputs": [
    {
     "data": {
      "image/png": "[encoded data removed]",
      "text/plain": [
       "<Figure size 864x360 with 1 Axes>"
      ]
     },
     "metadata": {
      "needs_background": "light"
     },
     "output_type": "display_data"
    },
    {
     "data": {
      "image/png": "[encoded data removed]",
      "text/plain": [
       "<Figure size 864x360 with 1 Axes>"
      ]
     },
     "metadata": {
      "needs_background": "light"
     },
     "output_type": "display_data"
    },
    {
     "data": {
      "image/png": "[encoded data removed]",
      "text/plain": [
       "<Figure size 864x360 with 1 Axes>"
      ]
     },
     "metadata": {
      "needs_background": "light"
     },
     "output_type": "display_data"
    },
    {
     "data": {
      "image/png": "[encoded data removed]",
      "text/plain": [
       "<Figure size 864x360 with 1 Axes>"
      ]
     },
     "metadata": {
      "needs_background": "light"
     },
     "output_type": "display_data"
    },
    {
     "data": {
      "image/png": "[encoded data removed]",
      "text/plain": [
       "<Figure size 864x360 with 1 Axes>"
      ]
     },
     "metadata": {
      "needs_background": "light"
     },
     "output_type": "display_data"
    },
    {
     "data": {
      "image/png": "[encoded data removed]",
      "text/plain": [
       "<Figure size 864x360 with 1 Axes>"
      ]
     },
     "metadata": {
      "needs_background": "light"
     },
     "output_type": "display_data"
    },
    {
     "data": {
      "image/png": "[encoded data removed]",
      "text/plain": [
       "<Figure size 864x360 with 1 Axes>"
      ]
     },
     "metadata": {
      "needs_background": "light"
     },
     "output_type": "display_data"
    },
    {
     "data": {
      "image/png": "[encoded data removed]",
      "text/plain": [
       "<Figure size 864x360 with 1 Axes>"
      ]
     },
     "metadata": {
      "needs_background": "light"
     },
     "output_type": "display_data"
    }
   ],
   "source": [
    "paises = data.pais.unique().tolist()\n",
    "\n",
    "for x in range(0, len(paises)):\n",
    "    plt.figure(figsize=(12,5))\n",
    "    ax = sns.countplot('anio', data = data[data.pais == paises[x]],\n",
    "                      palette= palette,\n",
    "                      order = data['anio'][data.pais == paises[x]].value_counts().index)\n",
    "    plt.title(paises[x], size=20)\n",
    "    plt.ylabel('Total')\n",
    "    plt.show()"
   ]
  },
  {
   "cell_type": "code",
   "execution_count": null,
   "metadata": {},
   "outputs": [],
   "source": []
  }
 ],
 "metadata": {
  "kernelspec": {
   "display_name": "Python 3",
   "language": "python",
   "name": "python3"
  },
  "language_info": {
   "codemirror_mode": {
    "name": "ipython",
    "version": 3
   },
   "file_extension": ".py",
   "mimetype": "text/x-python",
   "name": "python",
   "nbconvert_exporter": "python",
   "pygments_lexer": "ipython3",
   "version": "3.7.3"
  }
 },
 "nbformat": 4,
 "nbformat_minor": 2
}
